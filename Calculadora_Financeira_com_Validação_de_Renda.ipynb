{
  "nbformat": 4,
  "nbformat_minor": 0,
  "metadata": {
    "colab": {
      "provenance": [],
      "authorship_tag": "ABX9TyPfaS3gycig9ypby3V0et+1",
      "include_colab_link": true
    },
    "kernelspec": {
      "name": "python3",
      "display_name": "Python 3"
    },
    "language_info": {
      "name": "python"
    }
  },
  "cells": [
    {
      "cell_type": "markdown",
      "metadata": {
        "id": "view-in-github",
        "colab_type": "text"
      },
      "source": [
        "<a href=\"https://colab.research.google.com/github/Luan19979090/Projeto-2-IBM-Match-Calculadora-Financeira-com-Valida-o-de-Renda-/blob/main/Calculadora_Financeira_com_Valida%C3%A7%C3%A3o_de_Renda.ipynb\" target=\"_parent\"><img src=\"https://colab.research.google.com/assets/colab-badge.svg\" alt=\"Open In Colab\"/></a>"
      ]
    },
    {
      "cell_type": "code",
      "source": [],
      "metadata": {
        "id": "p8dQxNLiZBP2"
      },
      "execution_count": null,
      "outputs": []
    },
    {
      "cell_type": "code",
      "execution_count": 11,
      "metadata": {
        "id": "oMLoYW2-7tbZ",
        "colab": {
          "base_uri": "https://localhost:8080/"
        },
        "outputId": "9a24ba8b-435a-475b-9afa-218ecf2c335a"
      },
      "outputs": [
        {
          "output_type": "stream",
          "name": "stdout",
          "text": [
            "Digite sua renda mensal: 1500\n",
            "Digite o valor do empréstimo desejado: 2300\n",
            "Digite o prazo do empréstimo (em meses): 15\n",
            "\n",
            "Resultados do cálculo:\n",
            "Taxa de juros: 82.0%\n",
            "Valor das prestações mensais: R$261.21\n",
            "Custo total do empréstimo: R$3918.19\n"
          ]
        }
      ],
      "source": [
        "def validar_renda():\n",
        "    while True:\n",
        "        try:\n",
        "            renda = float(input(\"Digite sua renda mensal: \"))\n",
        "            limite_minimo = 1320  # limite mínimo de renda (salário mínimo)\n",
        "\n",
        "            if limite_minimo <= renda:\n",
        "                return renda\n",
        "            else:\n",
        "                print(\"A renda deve estar dentro do limite de\", limite_minimo)\n",
        "        except ValueError:\n",
        "            print(\"Por favor, insira um valor válido para a renda.\")\n",
        "\n",
        "renda = validar_renda()\n",
        "\n",
        "def calcular_emprestimo(renda):\n",
        "    valor_emprestimo = float(input(\"Digite o valor do empréstimo desejado: \"))\n",
        "\n",
        "    taxa_juros_anual = 0.82  # Taxa de juros anual de 82%\n",
        "\n",
        "    # Cálculo do valor das prestações mensais com juros compostos\n",
        "    taxa_juros_mensal = (1 + taxa_juros_anual) ** (1 / 12) - 1\n",
        "    prestacao_mensal = (valor_emprestimo * taxa_juros_mensal) / (1 - (1 + taxa_juros_mensal) ** -prazo_emprestimo)\n",
        "\n",
        "    return taxa_juros_anual, prestacao_mensal\n",
        "\n",
        "taxa_juros_anual, prestacao_mensal = calcular_emprestimo(renda)\n",
        "\n",
        "# Solicitação do prazo do empréstimo no escopo global\n",
        "prazo_emprestimo = int(input(\"Digite o prazo do empréstimo (em meses): \"))\n",
        "\n",
        "\n",
        "def apresentar_resultados(valor_emprestimo, taxa_juros, prestacao_mensal, prazo_emprestimo):\n",
        "    custo_total = prestacao_mensal * prazo_emprestimo\n",
        "    print(\"\\nResultados do cálculo:\")\n",
        "    print(f\"Taxa de juros: {taxa_juros * 100}%\")\n",
        "    print(f\"Valor das prestações mensais: R${prestacao_mensal:.2f}\")\n",
        "    print(f\"Custo total do empréstimo: R${custo_total:.2f}\")\n",
        "\n",
        "apresentar_resultados(renda, taxa_juros_anual, prestacao_mensal, prazo_emprestimo)\n",
        "\n",
        "\n",
        "\n",
        "\n",
        "\n",
        "\n",
        "\n",
        "\n",
        "\n",
        "\n"
      ]
    },
    {
      "cell_type": "markdown",
      "source": [],
      "metadata": {
        "id": "0srBWnTSZUw5"
      }
    },
    {
      "cell_type": "code",
      "source": [],
      "metadata": {
        "id": "-qoCeuG1ZVSE"
      },
      "execution_count": null,
      "outputs": []
    },
    {
      "cell_type": "code",
      "source": [],
      "metadata": {
        "id": "qaXIjq1RDEXG"
      },
      "execution_count": null,
      "outputs": []
    }
  ]
}